{
 "cells": [
  {
   "cell_type": "markdown",
   "metadata": {},
   "source": [
    "## Observations and Insights "
   ]
  },
  {
   "cell_type": "code",
   "execution_count": 40,
   "metadata": {},
   "outputs": [],
   "source": [
    "#%matplotlib notebook"
   ]
  },
  {
   "cell_type": "code",
   "execution_count": 41,
   "metadata": {},
   "outputs": [],
   "source": [
    "# Dependencies and Setup\n",
    "import matplotlib.pyplot as plt\n",
    "import pandas as pd\n",
    "import scipy.stats as st\n",
    "import numpy as np\n",
    "\n",
    "# Study data files\n",
    "mouse_metadata_path = \"resources/Mouse_metadata.csv\"\n",
    "study_results_path = \"resources/Study_results.csv\"\n",
    "\n",
    "# Read the mouse data and the study results\n",
    "mouse_metadata = pd.read_csv(mouse_metadata_path)\n",
    "study_results = pd.read_csv(study_results_path)\n",
    "\n"
   ]
  },
  {
   "cell_type": "code",
   "execution_count": 42,
   "metadata": {},
   "outputs": [
    {
     "data": {
      "text/html": [
       "<div>\n",
       "<style scoped>\n",
       "    .dataframe tbody tr th:only-of-type {\n",
       "        vertical-align: middle;\n",
       "    }\n",
       "\n",
       "    .dataframe tbody tr th {\n",
       "        vertical-align: top;\n",
       "    }\n",
       "\n",
       "    .dataframe thead th {\n",
       "        text-align: right;\n",
       "    }\n",
       "</style>\n",
       "<table border=\"1\" class=\"dataframe\">\n",
       "  <thead>\n",
       "    <tr style=\"text-align: right;\">\n",
       "      <th></th>\n",
       "      <th>Mouse ID</th>\n",
       "      <th>Drug Regimen</th>\n",
       "      <th>Sex</th>\n",
       "      <th>Age_months</th>\n",
       "      <th>Weight (g)</th>\n",
       "      <th>Timepoint</th>\n",
       "      <th>Tumor Volume (mm3)</th>\n",
       "      <th>Metastatic Sites</th>\n",
       "    </tr>\n",
       "  </thead>\n",
       "  <tbody>\n",
       "    <tr>\n",
       "      <th>0</th>\n",
       "      <td>k403</td>\n",
       "      <td>Ramicane</td>\n",
       "      <td>Male</td>\n",
       "      <td>21</td>\n",
       "      <td>16</td>\n",
       "      <td>0</td>\n",
       "      <td>45.000000</td>\n",
       "      <td>0</td>\n",
       "    </tr>\n",
       "    <tr>\n",
       "      <th>1</th>\n",
       "      <td>k403</td>\n",
       "      <td>Ramicane</td>\n",
       "      <td>Male</td>\n",
       "      <td>21</td>\n",
       "      <td>16</td>\n",
       "      <td>5</td>\n",
       "      <td>38.825898</td>\n",
       "      <td>0</td>\n",
       "    </tr>\n",
       "    <tr>\n",
       "      <th>2</th>\n",
       "      <td>k403</td>\n",
       "      <td>Ramicane</td>\n",
       "      <td>Male</td>\n",
       "      <td>21</td>\n",
       "      <td>16</td>\n",
       "      <td>10</td>\n",
       "      <td>35.014271</td>\n",
       "      <td>1</td>\n",
       "    </tr>\n",
       "    <tr>\n",
       "      <th>3</th>\n",
       "      <td>k403</td>\n",
       "      <td>Ramicane</td>\n",
       "      <td>Male</td>\n",
       "      <td>21</td>\n",
       "      <td>16</td>\n",
       "      <td>15</td>\n",
       "      <td>34.223992</td>\n",
       "      <td>1</td>\n",
       "    </tr>\n",
       "    <tr>\n",
       "      <th>4</th>\n",
       "      <td>k403</td>\n",
       "      <td>Ramicane</td>\n",
       "      <td>Male</td>\n",
       "      <td>21</td>\n",
       "      <td>16</td>\n",
       "      <td>20</td>\n",
       "      <td>32.997729</td>\n",
       "      <td>1</td>\n",
       "    </tr>\n",
       "  </tbody>\n",
       "</table>\n",
       "</div>"
      ],
      "text/plain": [
       "  Mouse ID Drug Regimen   Sex  Age_months  Weight (g)  Timepoint  \\\n",
       "0     k403     Ramicane  Male          21          16          0   \n",
       "1     k403     Ramicane  Male          21          16          5   \n",
       "2     k403     Ramicane  Male          21          16         10   \n",
       "3     k403     Ramicane  Male          21          16         15   \n",
       "4     k403     Ramicane  Male          21          16         20   \n",
       "\n",
       "   Tumor Volume (mm3)  Metastatic Sites  \n",
       "0           45.000000                 0  \n",
       "1           38.825898                 0  \n",
       "2           35.014271                 1  \n",
       "3           34.223992                 1  \n",
       "4           32.997729                 1  "
      ]
     },
     "execution_count": 42,
     "metadata": {},
     "output_type": "execute_result"
    }
   ],
   "source": [
    "# Combine the data into a single dataset\n",
    "# Display the data table for preview\n",
    "#merge the above two raw frames and check for np.nan\n",
    "pharmacy_df = pd.merge(mouse_metadata, study_results, on = \"Mouse ID\", how = \"outer\")\n",
    "pharmacy_df.dropna(how = \"any\")\n",
    "pharmacy_df.head()"
   ]
  },
  {
   "cell_type": "code",
   "execution_count": 43,
   "metadata": {},
   "outputs": [
    {
     "data": {
      "text/html": [
       "<div>\n",
       "<style scoped>\n",
       "    .dataframe tbody tr th:only-of-type {\n",
       "        vertical-align: middle;\n",
       "    }\n",
       "\n",
       "    .dataframe tbody tr th {\n",
       "        vertical-align: top;\n",
       "    }\n",
       "\n",
       "    .dataframe thead th {\n",
       "        text-align: right;\n",
       "    }\n",
       "</style>\n",
       "<table border=\"1\" class=\"dataframe\">\n",
       "  <thead>\n",
       "    <tr style=\"text-align: right;\">\n",
       "      <th></th>\n",
       "      <th>Mouse ID</th>\n",
       "      <th>Drug Regimen</th>\n",
       "      <th>Sex</th>\n",
       "      <th>Age_months</th>\n",
       "      <th>Weight (g)</th>\n",
       "      <th>Timepoint</th>\n",
       "      <th>Tumor Volume (mm3)</th>\n",
       "      <th>Metastatic Sites</th>\n",
       "    </tr>\n",
       "  </thead>\n",
       "  <tbody>\n",
       "    <tr>\n",
       "      <th>908</th>\n",
       "      <td>g989</td>\n",
       "      <td>Propriva</td>\n",
       "      <td>Female</td>\n",
       "      <td>21</td>\n",
       "      <td>26</td>\n",
       "      <td>0</td>\n",
       "      <td>45.000000</td>\n",
       "      <td>0</td>\n",
       "    </tr>\n",
       "    <tr>\n",
       "      <th>909</th>\n",
       "      <td>g989</td>\n",
       "      <td>Propriva</td>\n",
       "      <td>Female</td>\n",
       "      <td>21</td>\n",
       "      <td>26</td>\n",
       "      <td>0</td>\n",
       "      <td>45.000000</td>\n",
       "      <td>0</td>\n",
       "    </tr>\n",
       "    <tr>\n",
       "      <th>910</th>\n",
       "      <td>g989</td>\n",
       "      <td>Propriva</td>\n",
       "      <td>Female</td>\n",
       "      <td>21</td>\n",
       "      <td>26</td>\n",
       "      <td>5</td>\n",
       "      <td>48.786801</td>\n",
       "      <td>0</td>\n",
       "    </tr>\n",
       "    <tr>\n",
       "      <th>911</th>\n",
       "      <td>g989</td>\n",
       "      <td>Propriva</td>\n",
       "      <td>Female</td>\n",
       "      <td>21</td>\n",
       "      <td>26</td>\n",
       "      <td>5</td>\n",
       "      <td>47.570392</td>\n",
       "      <td>0</td>\n",
       "    </tr>\n",
       "    <tr>\n",
       "      <th>912</th>\n",
       "      <td>g989</td>\n",
       "      <td>Propriva</td>\n",
       "      <td>Female</td>\n",
       "      <td>21</td>\n",
       "      <td>26</td>\n",
       "      <td>10</td>\n",
       "      <td>51.745156</td>\n",
       "      <td>0</td>\n",
       "    </tr>\n",
       "    <tr>\n",
       "      <th>913</th>\n",
       "      <td>g989</td>\n",
       "      <td>Propriva</td>\n",
       "      <td>Female</td>\n",
       "      <td>21</td>\n",
       "      <td>26</td>\n",
       "      <td>10</td>\n",
       "      <td>49.880528</td>\n",
       "      <td>0</td>\n",
       "    </tr>\n",
       "    <tr>\n",
       "      <th>914</th>\n",
       "      <td>g989</td>\n",
       "      <td>Propriva</td>\n",
       "      <td>Female</td>\n",
       "      <td>21</td>\n",
       "      <td>26</td>\n",
       "      <td>15</td>\n",
       "      <td>51.325852</td>\n",
       "      <td>1</td>\n",
       "    </tr>\n",
       "    <tr>\n",
       "      <th>915</th>\n",
       "      <td>g989</td>\n",
       "      <td>Propriva</td>\n",
       "      <td>Female</td>\n",
       "      <td>21</td>\n",
       "      <td>26</td>\n",
       "      <td>15</td>\n",
       "      <td>53.442020</td>\n",
       "      <td>0</td>\n",
       "    </tr>\n",
       "    <tr>\n",
       "      <th>916</th>\n",
       "      <td>g989</td>\n",
       "      <td>Propriva</td>\n",
       "      <td>Female</td>\n",
       "      <td>21</td>\n",
       "      <td>26</td>\n",
       "      <td>20</td>\n",
       "      <td>55.326122</td>\n",
       "      <td>1</td>\n",
       "    </tr>\n",
       "    <tr>\n",
       "      <th>917</th>\n",
       "      <td>g989</td>\n",
       "      <td>Propriva</td>\n",
       "      <td>Female</td>\n",
       "      <td>21</td>\n",
       "      <td>26</td>\n",
       "      <td>20</td>\n",
       "      <td>54.657650</td>\n",
       "      <td>1</td>\n",
       "    </tr>\n",
       "    <tr>\n",
       "      <th>918</th>\n",
       "      <td>g989</td>\n",
       "      <td>Propriva</td>\n",
       "      <td>Female</td>\n",
       "      <td>21</td>\n",
       "      <td>26</td>\n",
       "      <td>25</td>\n",
       "      <td>56.045564</td>\n",
       "      <td>1</td>\n",
       "    </tr>\n",
       "    <tr>\n",
       "      <th>919</th>\n",
       "      <td>g989</td>\n",
       "      <td>Propriva</td>\n",
       "      <td>Female</td>\n",
       "      <td>21</td>\n",
       "      <td>26</td>\n",
       "      <td>30</td>\n",
       "      <td>59.082294</td>\n",
       "      <td>1</td>\n",
       "    </tr>\n",
       "    <tr>\n",
       "      <th>920</th>\n",
       "      <td>g989</td>\n",
       "      <td>Propriva</td>\n",
       "      <td>Female</td>\n",
       "      <td>21</td>\n",
       "      <td>26</td>\n",
       "      <td>35</td>\n",
       "      <td>62.570880</td>\n",
       "      <td>2</td>\n",
       "    </tr>\n",
       "  </tbody>\n",
       "</table>\n",
       "</div>"
      ],
      "text/plain": [
       "    Mouse ID Drug Regimen     Sex  Age_months  Weight (g)  Timepoint  \\\n",
       "908     g989     Propriva  Female          21          26          0   \n",
       "909     g989     Propriva  Female          21          26          0   \n",
       "910     g989     Propriva  Female          21          26          5   \n",
       "911     g989     Propriva  Female          21          26          5   \n",
       "912     g989     Propriva  Female          21          26         10   \n",
       "913     g989     Propriva  Female          21          26         10   \n",
       "914     g989     Propriva  Female          21          26         15   \n",
       "915     g989     Propriva  Female          21          26         15   \n",
       "916     g989     Propriva  Female          21          26         20   \n",
       "917     g989     Propriva  Female          21          26         20   \n",
       "918     g989     Propriva  Female          21          26         25   \n",
       "919     g989     Propriva  Female          21          26         30   \n",
       "920     g989     Propriva  Female          21          26         35   \n",
       "\n",
       "     Tumor Volume (mm3)  Metastatic Sites  \n",
       "908           45.000000                 0  \n",
       "909           45.000000                 0  \n",
       "910           48.786801                 0  \n",
       "911           47.570392                 0  \n",
       "912           51.745156                 0  \n",
       "913           49.880528                 0  \n",
       "914           51.325852                 1  \n",
       "915           53.442020                 0  \n",
       "916           55.326122                 1  \n",
       "917           54.657650                 1  \n",
       "918           56.045564                 1  \n",
       "919           59.082294                 1  \n",
       "920           62.570880                 2  "
      ]
     },
     "execution_count": 43,
     "metadata": {},
     "output_type": "execute_result"
    }
   ],
   "source": [
    "#The data for Mouse ID g989 looks has defects, however since when I drop duplicates keep the last one\n",
    "#should be safe for my count Mouse ID, notice for the last timepoint 35, one one row value.\n",
    "pharmacy_df.loc[pharmacy_df[\"Mouse ID\"] == \"g989\"]"
   ]
  },
  {
   "cell_type": "code",
   "execution_count": 44,
   "metadata": {},
   "outputs": [
    {
     "data": {
      "text/html": [
       "<div>\n",
       "<style scoped>\n",
       "    .dataframe tbody tr th:only-of-type {\n",
       "        vertical-align: middle;\n",
       "    }\n",
       "\n",
       "    .dataframe tbody tr th {\n",
       "        vertical-align: top;\n",
       "    }\n",
       "\n",
       "    .dataframe thead th {\n",
       "        text-align: right;\n",
       "    }\n",
       "</style>\n",
       "<table border=\"1\" class=\"dataframe\">\n",
       "  <thead>\n",
       "    <tr style=\"text-align: right;\">\n",
       "      <th></th>\n",
       "      <th>Mouse ID</th>\n",
       "      <th>Drug Regimen</th>\n",
       "      <th>Sex</th>\n",
       "      <th>Age_months</th>\n",
       "      <th>Weight (g)</th>\n",
       "      <th>Timepoint</th>\n",
       "      <th>Tumor Volume (mm3)</th>\n",
       "      <th>Metastatic Sites</th>\n",
       "    </tr>\n",
       "  </thead>\n",
       "  <tbody>\n",
       "    <tr>\n",
       "      <th>0</th>\n",
       "      <td>k403</td>\n",
       "      <td>Ramicane</td>\n",
       "      <td>Male</td>\n",
       "      <td>21</td>\n",
       "      <td>16</td>\n",
       "      <td>0</td>\n",
       "      <td>45.000000</td>\n",
       "      <td>0</td>\n",
       "    </tr>\n",
       "    <tr>\n",
       "      <th>1</th>\n",
       "      <td>k403</td>\n",
       "      <td>Ramicane</td>\n",
       "      <td>Male</td>\n",
       "      <td>21</td>\n",
       "      <td>16</td>\n",
       "      <td>5</td>\n",
       "      <td>38.825898</td>\n",
       "      <td>0</td>\n",
       "    </tr>\n",
       "    <tr>\n",
       "      <th>2</th>\n",
       "      <td>k403</td>\n",
       "      <td>Ramicane</td>\n",
       "      <td>Male</td>\n",
       "      <td>21</td>\n",
       "      <td>16</td>\n",
       "      <td>10</td>\n",
       "      <td>35.014271</td>\n",
       "      <td>1</td>\n",
       "    </tr>\n",
       "    <tr>\n",
       "      <th>3</th>\n",
       "      <td>k403</td>\n",
       "      <td>Ramicane</td>\n",
       "      <td>Male</td>\n",
       "      <td>21</td>\n",
       "      <td>16</td>\n",
       "      <td>15</td>\n",
       "      <td>34.223992</td>\n",
       "      <td>1</td>\n",
       "    </tr>\n",
       "    <tr>\n",
       "      <th>4</th>\n",
       "      <td>k403</td>\n",
       "      <td>Ramicane</td>\n",
       "      <td>Male</td>\n",
       "      <td>21</td>\n",
       "      <td>16</td>\n",
       "      <td>20</td>\n",
       "      <td>32.997729</td>\n",
       "      <td>1</td>\n",
       "    </tr>\n",
       "  </tbody>\n",
       "</table>\n",
       "</div>"
      ],
      "text/plain": [
       "  Mouse ID Drug Regimen   Sex  Age_months  Weight (g)  Timepoint  \\\n",
       "0     k403     Ramicane  Male          21          16          0   \n",
       "1     k403     Ramicane  Male          21          16          5   \n",
       "2     k403     Ramicane  Male          21          16         10   \n",
       "3     k403     Ramicane  Male          21          16         15   \n",
       "4     k403     Ramicane  Male          21          16         20   \n",
       "\n",
       "   Tumor Volume (mm3)  Metastatic Sites  \n",
       "0           45.000000                 0  \n",
       "1           38.825898                 0  \n",
       "2           35.014271                 1  \n",
       "3           34.223992                 1  \n",
       "4           32.997729                 1  "
      ]
     },
     "execution_count": 44,
     "metadata": {},
     "output_type": "execute_result"
    }
   ],
   "source": [
    "#make a copy dataframe for working and keep the original one as a backup\n",
    "phar_df = pharmacy_df.copy()\n",
    "phar_df.head()\n",
    "#phar_df[\"Mouse ID\"].unique()"
   ]
  },
  {
   "cell_type": "code",
   "execution_count": null,
   "metadata": {},
   "outputs": [],
   "source": []
  },
  {
   "cell_type": "code",
   "execution_count": 45,
   "metadata": {},
   "outputs": [
    {
     "name": "stdout",
     "output_type": "stream",
     "text": [
      "<class 'pandas.core.frame.DataFrame'>\n",
      "Int64Index: 1893 entries, 0 to 1892\n",
      "Data columns (total 8 columns):\n",
      " #   Column              Non-Null Count  Dtype  \n",
      "---  ------              --------------  -----  \n",
      " 0   Mouse ID            1893 non-null   object \n",
      " 1   Drug Regimen        1893 non-null   object \n",
      " 2   Sex                 1893 non-null   object \n",
      " 3   Age_months          1893 non-null   int64  \n",
      " 4   Weight (g)          1893 non-null   int64  \n",
      " 5   Timepoint           1893 non-null   int64  \n",
      " 6   Tumor Volume (mm3)  1893 non-null   float64\n",
      " 7   Metastatic Sites    1893 non-null   int64  \n",
      "dtypes: float64(1), int64(4), object(3)\n",
      "memory usage: 133.1+ KB\n"
     ]
    }
   ],
   "source": [
    "phar_df.info()"
   ]
  },
  {
   "cell_type": "code",
   "execution_count": 46,
   "metadata": {},
   "outputs": [
    {
     "data": {
      "text/html": [
       "<div>\n",
       "<style scoped>\n",
       "    .dataframe tbody tr th:only-of-type {\n",
       "        vertical-align: middle;\n",
       "    }\n",
       "\n",
       "    .dataframe tbody tr th {\n",
       "        vertical-align: top;\n",
       "    }\n",
       "\n",
       "    .dataframe thead th {\n",
       "        text-align: right;\n",
       "    }\n",
       "</style>\n",
       "<table border=\"1\" class=\"dataframe\">\n",
       "  <thead>\n",
       "    <tr style=\"text-align: right;\">\n",
       "      <th></th>\n",
       "      <th>Mouse ID</th>\n",
       "      <th>Drug Regimen</th>\n",
       "      <th>Sex</th>\n",
       "      <th>Age_months</th>\n",
       "      <th>Weight (g)</th>\n",
       "      <th>Timepoint</th>\n",
       "      <th>Tumor Volume (mm3)</th>\n",
       "      <th>Metastatic Sites</th>\n",
       "    </tr>\n",
       "  </thead>\n",
       "  <tbody>\n",
       "    <tr>\n",
       "      <th>0</th>\n",
       "      <td>k403</td>\n",
       "      <td>Ramicane</td>\n",
       "      <td>Male</td>\n",
       "      <td>21</td>\n",
       "      <td>16</td>\n",
       "      <td>45</td>\n",
       "      <td>22.050126</td>\n",
       "      <td>1</td>\n",
       "    </tr>\n",
       "    <tr>\n",
       "      <th>1</th>\n",
       "      <td>s185</td>\n",
       "      <td>Capomulin</td>\n",
       "      <td>Female</td>\n",
       "      <td>3</td>\n",
       "      <td>17</td>\n",
       "      <td>45</td>\n",
       "      <td>23.343598</td>\n",
       "      <td>1</td>\n",
       "    </tr>\n",
       "    <tr>\n",
       "      <th>2</th>\n",
       "      <td>x401</td>\n",
       "      <td>Capomulin</td>\n",
       "      <td>Female</td>\n",
       "      <td>16</td>\n",
       "      <td>15</td>\n",
       "      <td>45</td>\n",
       "      <td>28.484033</td>\n",
       "      <td>0</td>\n",
       "    </tr>\n",
       "    <tr>\n",
       "      <th>3</th>\n",
       "      <td>m601</td>\n",
       "      <td>Capomulin</td>\n",
       "      <td>Male</td>\n",
       "      <td>22</td>\n",
       "      <td>17</td>\n",
       "      <td>45</td>\n",
       "      <td>28.430964</td>\n",
       "      <td>1</td>\n",
       "    </tr>\n",
       "    <tr>\n",
       "      <th>4</th>\n",
       "      <td>g791</td>\n",
       "      <td>Ramicane</td>\n",
       "      <td>Male</td>\n",
       "      <td>11</td>\n",
       "      <td>16</td>\n",
       "      <td>45</td>\n",
       "      <td>29.128472</td>\n",
       "      <td>1</td>\n",
       "    </tr>\n",
       "  </tbody>\n",
       "</table>\n",
       "</div>"
      ],
      "text/plain": [
       "  Mouse ID Drug Regimen     Sex  Age_months  Weight (g)  Timepoint  \\\n",
       "0     k403     Ramicane    Male          21          16         45   \n",
       "1     s185    Capomulin  Female           3          17         45   \n",
       "2     x401    Capomulin  Female          16          15         45   \n",
       "3     m601    Capomulin    Male          22          17         45   \n",
       "4     g791     Ramicane    Male          11          16         45   \n",
       "\n",
       "   Tumor Volume (mm3)  Metastatic Sites  \n",
       "0           22.050126                 1  \n",
       "1           23.343598                 1  \n",
       "2           28.484033                 0  \n",
       "3           28.430964                 1  \n",
       "4           29.128472                 1  "
      ]
     },
     "execution_count": 46,
     "metadata": {},
     "output_type": "execute_result"
    }
   ],
   "source": [
    "# Create a clean DataFrame by dropping the duplicate mouse by its ID.\n",
    "#drop duplicates and keep the lastone.\n",
    "phar_df.drop_duplicates(subset =[\"Mouse ID\"], keep = \"last\", inplace = True, ignore_index = True)\n",
    "clean_df = phar_df.copy()\n",
    "clean_df.head()"
   ]
  },
  {
   "cell_type": "code",
   "execution_count": 47,
   "metadata": {},
   "outputs": [
    {
     "data": {
      "text/html": [
       "<div>\n",
       "<style scoped>\n",
       "    .dataframe tbody tr th:only-of-type {\n",
       "        vertical-align: middle;\n",
       "    }\n",
       "\n",
       "    .dataframe tbody tr th {\n",
       "        vertical-align: top;\n",
       "    }\n",
       "\n",
       "    .dataframe thead th {\n",
       "        text-align: right;\n",
       "    }\n",
       "</style>\n",
       "<table border=\"1\" class=\"dataframe\">\n",
       "  <thead>\n",
       "    <tr style=\"text-align: right;\">\n",
       "      <th></th>\n",
       "      <th>Mouse ID</th>\n",
       "      <th>Drug Regimen</th>\n",
       "      <th>Sex</th>\n",
       "      <th>Age_months</th>\n",
       "      <th>Weight (g)</th>\n",
       "      <th>Timepoint</th>\n",
       "      <th>Tumor Volume (mm3)</th>\n",
       "      <th>Metastatic Sites</th>\n",
       "    </tr>\n",
       "  </thead>\n",
       "  <tbody>\n",
       "  </tbody>\n",
       "</table>\n",
       "</div>"
      ],
      "text/plain": [
       "Empty DataFrame\n",
       "Columns: [Mouse ID, Drug Regimen, Sex, Age_months, Weight (g), Timepoint, Tumor Volume (mm3), Metastatic Sites]\n",
       "Index: []"
      ]
     },
     "execution_count": 47,
     "metadata": {},
     "output_type": "execute_result"
    }
   ],
   "source": [
    "#Check there is no duplicate after drop duplicate\n",
    "d = clean_df[clean_df.duplicated()]\n",
    "d"
   ]
  },
  {
   "cell_type": "code",
   "execution_count": 48,
   "metadata": {},
   "outputs": [
    {
     "data": {
      "text/html": [
       "<div>\n",
       "<style scoped>\n",
       "    .dataframe tbody tr th:only-of-type {\n",
       "        vertical-align: middle;\n",
       "    }\n",
       "\n",
       "    .dataframe tbody tr th {\n",
       "        vertical-align: top;\n",
       "    }\n",
       "\n",
       "    .dataframe thead th {\n",
       "        text-align: right;\n",
       "    }\n",
       "</style>\n",
       "<table border=\"1\" class=\"dataframe\">\n",
       "  <thead>\n",
       "    <tr style=\"text-align: right;\">\n",
       "      <th></th>\n",
       "      <th>Mouse ID</th>\n",
       "      <th>Drug Regimen</th>\n",
       "      <th>Sex</th>\n",
       "      <th>Age_months</th>\n",
       "      <th>Weight (g)</th>\n",
       "      <th>Timepoint</th>\n",
       "      <th>Tumor Volume (mm3)</th>\n",
       "      <th>Metastatic Sites</th>\n",
       "    </tr>\n",
       "  </thead>\n",
       "  <tbody>\n",
       "    <tr>\n",
       "      <th>107</th>\n",
       "      <td>g989</td>\n",
       "      <td>Propriva</td>\n",
       "      <td>Female</td>\n",
       "      <td>21</td>\n",
       "      <td>26</td>\n",
       "      <td>35</td>\n",
       "      <td>62.57088</td>\n",
       "      <td>2</td>\n",
       "    </tr>\n",
       "  </tbody>\n",
       "</table>\n",
       "</div>"
      ],
      "text/plain": [
       "    Mouse ID Drug Regimen     Sex  Age_months  Weight (g)  Timepoint  \\\n",
       "107     g989     Propriva  Female          21          26         35   \n",
       "\n",
       "     Tumor Volume (mm3)  Metastatic Sites  \n",
       "107            62.57088                 2  "
      ]
     },
     "execution_count": 48,
     "metadata": {},
     "output_type": "execute_result"
    }
   ],
   "source": [
    "#and check the mouse ID g989 is only one item\n",
    "clean_df.loc[clean_df[\"Mouse ID\"] == \"g989\"]"
   ]
  },
  {
   "cell_type": "code",
   "execution_count": 49,
   "metadata": {},
   "outputs": [
    {
     "data": {
      "text/plain": [
       "249"
      ]
     },
     "execution_count": 49,
     "metadata": {},
     "output_type": "execute_result"
    }
   ],
   "source": [
    "# Checking the number of mice in the clean DataFrame.\n",
    "# Checking the number of mice.\n",
    "mice_number = clean_df[\"Mouse ID\"].value_counts().sum()\n",
    "mice_number"
   ]
  },
  {
   "cell_type": "code",
   "execution_count": 50,
   "metadata": {},
   "outputs": [
    {
     "data": {
      "text/plain": [
       "array(['Capomulin', 'Ceftamin', 'Infubinol', 'Ketapril', 'Naftisol',\n",
       "       'Placebo', 'Propriva', 'Ramicane', 'Stelasyn', 'Zoniferol'],\n",
       "      dtype=object)"
      ]
     },
     "execution_count": 50,
     "metadata": {},
     "output_type": "execute_result"
    }
   ],
   "source": [
    "#prepare to form a Tumor_Volumn_statistics DataFrame\n",
    "tumor_dict = {}\n",
    "allregimenlist = []\n",
    "regimenlist = clean_df[\"Drug Regimen\"].unique()\n",
    "regimenlist.sort()\n",
    "regimenlist"
   ]
  },
  {
   "cell_type": "code",
   "execution_count": 51,
   "metadata": {},
   "outputs": [],
   "source": [
    "#prepare to creat Tumor_Volumn_Statistics DataFrame\n",
    "t_col = []\n",
    "\n",
    "for i in regimenlist:\n",
    "    one_df = clean_df.loc[phar_df[\"Drug Regimen\"] == i, [\"Tumor Volume (mm3)\"]]\n",
    "    t_col = one_df[\"Tumor Volume (mm3)\"]\n",
    "    tumor_dict = {\"tumor_vol_mean\":t_col.mean(), \"tumor_vol_median\":t_col.median(), \"tumor_vol_Variance\":t_col.var(), \n",
    "                  \"tumor_vol_std_Dev\":t_col.std(), \"tumor_vol_SEM\":t_col.sem()}\n",
    "    allregimenlist.append(dict(tumor_dict))\n",
    " "
   ]
  },
  {
   "cell_type": "code",
   "execution_count": 52,
   "metadata": {},
   "outputs": [],
   "source": [
    "#creat Tumor_Volumn_Statistics DataFrame\n",
    "t_vol_df = pd.DataFrame(allregimenlist)   \n",
    "#t_vol_df.head(20)"
   ]
  },
  {
   "cell_type": "code",
   "execution_count": 53,
   "metadata": {},
   "outputs": [],
   "source": [
    "#Add Drug Regimen column to the Tumor_Volumn_Statistics DataFrame\n",
    "t_vol_df[\"Drug Regimen\"] = np.array(regimenlist) "
   ]
  },
  {
   "cell_type": "markdown",
   "metadata": {},
   "source": [
    "## Summary Statistics"
   ]
  },
  {
   "cell_type": "code",
   "execution_count": 54,
   "metadata": {},
   "outputs": [
    {
     "data": {
      "text/html": [
       "<div>\n",
       "<style scoped>\n",
       "    .dataframe tbody tr th:only-of-type {\n",
       "        vertical-align: middle;\n",
       "    }\n",
       "\n",
       "    .dataframe tbody tr th {\n",
       "        vertical-align: top;\n",
       "    }\n",
       "\n",
       "    .dataframe thead th {\n",
       "        text-align: right;\n",
       "    }\n",
       "</style>\n",
       "<table border=\"1\" class=\"dataframe\">\n",
       "  <thead>\n",
       "    <tr style=\"text-align: right;\">\n",
       "      <th></th>\n",
       "      <th>tumor_vol_mean</th>\n",
       "      <th>tumor_vol_median</th>\n",
       "      <th>tumor_vol_Variance</th>\n",
       "      <th>tumor_vol_std_Dev</th>\n",
       "      <th>tumor_vol_SEM</th>\n",
       "    </tr>\n",
       "    <tr>\n",
       "      <th>Drug Regimen</th>\n",
       "      <th></th>\n",
       "      <th></th>\n",
       "      <th></th>\n",
       "      <th></th>\n",
       "      <th></th>\n",
       "    </tr>\n",
       "  </thead>\n",
       "  <tbody>\n",
       "    <tr>\n",
       "      <th>Capomulin</th>\n",
       "      <td>36.667568</td>\n",
       "      <td>38.125164</td>\n",
       "      <td>32.663378</td>\n",
       "      <td>5.715188</td>\n",
       "      <td>1.143038</td>\n",
       "    </tr>\n",
       "    <tr>\n",
       "      <th>Ceftamin</th>\n",
       "      <td>57.753977</td>\n",
       "      <td>59.851956</td>\n",
       "      <td>69.982735</td>\n",
       "      <td>8.365568</td>\n",
       "      <td>1.673114</td>\n",
       "    </tr>\n",
       "    <tr>\n",
       "      <th>Infubinol</th>\n",
       "      <td>58.178246</td>\n",
       "      <td>60.165180</td>\n",
       "      <td>74.010875</td>\n",
       "      <td>8.602957</td>\n",
       "      <td>1.720591</td>\n",
       "    </tr>\n",
       "    <tr>\n",
       "      <th>Ketapril</th>\n",
       "      <td>62.806191</td>\n",
       "      <td>64.487812</td>\n",
       "      <td>98.921330</td>\n",
       "      <td>9.945920</td>\n",
       "      <td>1.989184</td>\n",
       "    </tr>\n",
       "    <tr>\n",
       "      <th>Naftisol</th>\n",
       "      <td>61.205757</td>\n",
       "      <td>63.283288</td>\n",
       "      <td>106.029927</td>\n",
       "      <td>10.297083</td>\n",
       "      <td>2.059417</td>\n",
       "    </tr>\n",
       "    <tr>\n",
       "      <th>Placebo</th>\n",
       "      <td>60.508414</td>\n",
       "      <td>62.030594</td>\n",
       "      <td>78.759797</td>\n",
       "      <td>8.874672</td>\n",
       "      <td>1.774934</td>\n",
       "    </tr>\n",
       "    <tr>\n",
       "      <th>Propriva</th>\n",
       "      <td>56.736964</td>\n",
       "      <td>55.841410</td>\n",
       "      <td>69.349002</td>\n",
       "      <td>8.327605</td>\n",
       "      <td>1.665521</td>\n",
       "    </tr>\n",
       "    <tr>\n",
       "      <th>Ramicane</th>\n",
       "      <td>36.191390</td>\n",
       "      <td>36.561652</td>\n",
       "      <td>32.166354</td>\n",
       "      <td>5.671539</td>\n",
       "      <td>1.134308</td>\n",
       "    </tr>\n",
       "    <tr>\n",
       "      <th>Stelasyn</th>\n",
       "      <td>61.001707</td>\n",
       "      <td>62.192350</td>\n",
       "      <td>90.331586</td>\n",
       "      <td>9.504293</td>\n",
       "      <td>1.940056</td>\n",
       "    </tr>\n",
       "    <tr>\n",
       "      <th>Zoniferol</th>\n",
       "      <td>59.181258</td>\n",
       "      <td>61.840058</td>\n",
       "      <td>76.862027</td>\n",
       "      <td>8.767099</td>\n",
       "      <td>1.753420</td>\n",
       "    </tr>\n",
       "  </tbody>\n",
       "</table>\n",
       "</div>"
      ],
      "text/plain": [
       "              tumor_vol_mean  tumor_vol_median  tumor_vol_Variance  \\\n",
       "Drug Regimen                                                         \n",
       "Capomulin          36.667568         38.125164           32.663378   \n",
       "Ceftamin           57.753977         59.851956           69.982735   \n",
       "Infubinol          58.178246         60.165180           74.010875   \n",
       "Ketapril           62.806191         64.487812           98.921330   \n",
       "Naftisol           61.205757         63.283288          106.029927   \n",
       "Placebo            60.508414         62.030594           78.759797   \n",
       "Propriva           56.736964         55.841410           69.349002   \n",
       "Ramicane           36.191390         36.561652           32.166354   \n",
       "Stelasyn           61.001707         62.192350           90.331586   \n",
       "Zoniferol          59.181258         61.840058           76.862027   \n",
       "\n",
       "              tumor_vol_std_Dev  tumor_vol_SEM  \n",
       "Drug Regimen                                    \n",
       "Capomulin              5.715188       1.143038  \n",
       "Ceftamin               8.365568       1.673114  \n",
       "Infubinol              8.602957       1.720591  \n",
       "Ketapril               9.945920       1.989184  \n",
       "Naftisol              10.297083       2.059417  \n",
       "Placebo                8.874672       1.774934  \n",
       "Propriva               8.327605       1.665521  \n",
       "Ramicane               5.671539       1.134308  \n",
       "Stelasyn               9.504293       1.940056  \n",
       "Zoniferol              8.767099       1.753420  "
      ]
     },
     "execution_count": 54,
     "metadata": {},
     "output_type": "execute_result"
    }
   ],
   "source": [
    "# Generate a summary statistics table of mean, median, variance, standard deviation, and SEM of the tumor volume for each regimen\n",
    "# This method is the most straighforward, creating multiple series and putting them all together at the end.\n",
    "#set index by Drug Regimen to the Tumor_Volumn_Statistics DataFrame\n",
    "tumor_vol_df = t_vol_df.set_index(\"Drug Regimen\")\n",
    "tumor_vol_df\n"
   ]
  },
  {
   "cell_type": "code",
   "execution_count": 55,
   "metadata": {},
   "outputs": [
    {
     "data": {
      "text/html": [
       "<div>\n",
       "<style scoped>\n",
       "    .dataframe tbody tr th:only-of-type {\n",
       "        vertical-align: middle;\n",
       "    }\n",
       "\n",
       "    .dataframe tbody tr th {\n",
       "        vertical-align: top;\n",
       "    }\n",
       "\n",
       "    .dataframe thead th {\n",
       "        text-align: right;\n",
       "    }\n",
       "</style>\n",
       "<table border=\"1\" class=\"dataframe\">\n",
       "  <thead>\n",
       "    <tr style=\"text-align: right;\">\n",
       "      <th></th>\n",
       "      <th>mean</th>\n",
       "      <th>median</th>\n",
       "      <th>variance</th>\n",
       "      <th>sta_dev</th>\n",
       "      <th>sem</th>\n",
       "    </tr>\n",
       "  </thead>\n",
       "  <tbody>\n",
       "    <tr>\n",
       "      <th>Capomulin</th>\n",
       "      <td>36.667568</td>\n",
       "      <td>38.125164</td>\n",
       "      <td>32.663378</td>\n",
       "      <td>5.715188</td>\n",
       "      <td>1.143038</td>\n",
       "    </tr>\n",
       "    <tr>\n",
       "      <th>Ceftamin</th>\n",
       "      <td>57.753977</td>\n",
       "      <td>59.851956</td>\n",
       "      <td>69.982735</td>\n",
       "      <td>8.365568</td>\n",
       "      <td>1.673114</td>\n",
       "    </tr>\n",
       "    <tr>\n",
       "      <th>Infubinol</th>\n",
       "      <td>58.178246</td>\n",
       "      <td>60.165180</td>\n",
       "      <td>74.010875</td>\n",
       "      <td>8.602957</td>\n",
       "      <td>1.720591</td>\n",
       "    </tr>\n",
       "    <tr>\n",
       "      <th>Ketapril</th>\n",
       "      <td>62.806191</td>\n",
       "      <td>64.487812</td>\n",
       "      <td>98.921330</td>\n",
       "      <td>9.945920</td>\n",
       "      <td>1.989184</td>\n",
       "    </tr>\n",
       "    <tr>\n",
       "      <th>Naftisol</th>\n",
       "      <td>61.205757</td>\n",
       "      <td>63.283288</td>\n",
       "      <td>106.029927</td>\n",
       "      <td>10.297083</td>\n",
       "      <td>2.059417</td>\n",
       "    </tr>\n",
       "    <tr>\n",
       "      <th>Placebo</th>\n",
       "      <td>60.508414</td>\n",
       "      <td>62.030594</td>\n",
       "      <td>78.759797</td>\n",
       "      <td>8.874672</td>\n",
       "      <td>1.774934</td>\n",
       "    </tr>\n",
       "    <tr>\n",
       "      <th>Propriva</th>\n",
       "      <td>56.736964</td>\n",
       "      <td>55.841410</td>\n",
       "      <td>69.349002</td>\n",
       "      <td>8.327605</td>\n",
       "      <td>1.665521</td>\n",
       "    </tr>\n",
       "    <tr>\n",
       "      <th>Ramicane</th>\n",
       "      <td>36.191390</td>\n",
       "      <td>36.561652</td>\n",
       "      <td>32.166354</td>\n",
       "      <td>5.671539</td>\n",
       "      <td>1.134308</td>\n",
       "    </tr>\n",
       "    <tr>\n",
       "      <th>Stelasyn</th>\n",
       "      <td>61.001707</td>\n",
       "      <td>62.192350</td>\n",
       "      <td>90.331586</td>\n",
       "      <td>9.504293</td>\n",
       "      <td>1.940056</td>\n",
       "    </tr>\n",
       "    <tr>\n",
       "      <th>Zoniferol</th>\n",
       "      <td>59.181258</td>\n",
       "      <td>61.840058</td>\n",
       "      <td>76.862027</td>\n",
       "      <td>8.767099</td>\n",
       "      <td>1.753420</td>\n",
       "    </tr>\n",
       "  </tbody>\n",
       "</table>\n",
       "</div>"
      ],
      "text/plain": [
       "                mean     median    variance    sta_dev       sem\n",
       "Capomulin  36.667568  38.125164   32.663378   5.715188  1.143038\n",
       "Ceftamin   57.753977  59.851956   69.982735   8.365568  1.673114\n",
       "Infubinol  58.178246  60.165180   74.010875   8.602957  1.720591\n",
       "Ketapril   62.806191  64.487812   98.921330   9.945920  1.989184\n",
       "Naftisol   61.205757  63.283288  106.029927  10.297083  2.059417\n",
       "Placebo    60.508414  62.030594   78.759797   8.874672  1.774934\n",
       "Propriva   56.736964  55.841410   69.349002   8.327605  1.665521\n",
       "Ramicane   36.191390  36.561652   32.166354   5.671539  1.134308\n",
       "Stelasyn   61.001707  62.192350   90.331586   9.504293  1.940056\n",
       "Zoniferol  59.181258  61.840058   76.862027   8.767099  1.753420"
      ]
     },
     "execution_count": 55,
     "metadata": {},
     "output_type": "execute_result"
    }
   ],
   "source": [
    "# Generate a summary statistics table of mean, median, variance, standard deviation, and SEM of the tumor volume for each regimen\n",
    "# This method produces everything in a single groupby function\n",
    "grouped_df = clean_df.groupby(\"Drug Regimen\")\n",
    "statistics_df =pd.DataFrame(index = regimenlist, columns = [\"mean\", \"median\",\"variance\", \"sta_dev\",\"sem\"])\n",
    "statistics_df[\"mean\"] =grouped_df[\"Tumor Volume (mm3)\"].mean()\n",
    "statistics_df[\"median\"] = grouped_df[\"Tumor Volume (mm3)\"].median()\n",
    "statistics_df[\"variance\"] = grouped_df[\"Tumor Volume (mm3)\"].var()\n",
    "statistics_df[\"sta_dev\"] = grouped_df[\"Tumor Volume (mm3)\"].std()\n",
    "statistics_df[\"sem\"] = grouped_df[\"Tumor Volume (mm3)\"].sem()\n",
    "\n",
    "statistics_df"
   ]
  },
  {
   "cell_type": "markdown",
   "metadata": {},
   "source": [
    "## Bar and Pie Charts"
   ]
  },
  {
   "cell_type": "code",
   "execution_count": 56,
   "metadata": {},
   "outputs": [
    {
     "data": {
      "text/plain": [
       "Capomulin    25\n",
       "Ceftamin     25\n",
       "Infubinol    25\n",
       "Ketapril     25\n",
       "Naftisol     25\n",
       "Placebo      25\n",
       "Propriva     25\n",
       "Ramicane     25\n",
       "Stelasyn     24\n",
       "Zoniferol    25\n",
       "dtype: int64"
      ]
     },
     "execution_count": 56,
     "metadata": {},
     "output_type": "execute_result"
    }
   ],
   "source": [
    "# Generate a bar plot showing the total number of mice for each treatment throughout the course of the study using pandas. \n",
    "\n",
    "grouped_phar_df = clean_df.groupby(\"Drug Regimen\")\n",
    "mice_of_treatment_df = grouped_phar_df[\"Mouse ID\"].value_counts()\n",
    "\n",
    "mice_dict = {}\n",
    "\n",
    "for i in regimenlist:\n",
    "    mice_dict[i] = mice_of_treatment_df.loc[i, :].sum()\n",
    "    \n",
    "mice_ser = pd.Series(mice_dict)\n",
    "mice_ser"
   ]
  },
  {
   "cell_type": "code",
   "execution_count": 75,
   "metadata": {},
   "outputs": [
    {
     "data": {
      "image/png": "[encoded data removed]",
      "text/plain": [
       "<Figure size 432x288 with 1 Axes>"
      ]
     },
     "metadata": {
      "needs_background": "light"
     },
     "output_type": "display_data"
    }
   ],
   "source": [
    "# Generate a bar plot showing the total number of data points, if required\n",
    "counts = pharmacy_df[\"Drug Regimen\"].value_counts()\n",
    "counts.plot(kind = \"bar\")\n",
    "plt.xlabel(\"Drug Regimens\")\n",
    "plt.xticks(rotation = 45)\n",
    "plt.ylabel(\"number of points\")\n",
    "plt.show()"
   ]
  },
  {
   "cell_type": "code",
   "execution_count": 57,
   "metadata": {},
   "outputs": [
    {
     "data": {
      "image/png": "[encoded data removed]",
      "text/plain": [
       "<Figure size 432x288 with 1 Axes>"
      ]
     },
     "metadata": {
      "needs_background": "light"
     },
     "output_type": "display_data"
    }
   ],
   "source": [
    "# Generate a bar plot showing the total number of mice for each treatment throughout the course of the study using pyplot.\n",
    "x = regimenlist\n",
    "y = mice_ser\n",
    "x_axis = np.arange(len(list(regimenlist)))\n",
    "plt.xticks(x_axis, x, rotation = \"vertical\")\n",
    "plt.bar(x_axis, y, facecolor = \"blue\", alpha = 0.5, align = \"center\")\n",
    "plt.xlabel(\"Treatments\")\n",
    "plt.ylabel(\"Mices for each treatment\")\n",
    "plt.title(\"Tumor Study\")\n",
    "plt.tight_layout()"
   ]
  },
  {
   "cell_type": "code",
   "execution_count": 58,
   "metadata": {},
   "outputs": [
    {
     "data": {
      "text/plain": [
       "<function matplotlib.pyplot.tight_layout(pad=1.08, h_pad=None, w_pad=None, rect=None)>"
      ]
     },
     "execution_count": 58,
     "metadata": {},
     "output_type": "execute_result"
    },
    {
     "data": {
      "image/png": "[encoded data removed]",
      "text/plain": [
       "<Figure size 360x216 with 1 Axes>"
      ]
     },
     "metadata": {
      "needs_background": "light"
     },
     "output_type": "display_data"
    }
   ],
   "source": [
    "#Generate a bar plot showing the total number of mice for each treatment throughout the course of the study using pyplot.\n",
    "fig, ax = plt.subplots()\n",
    "\n",
    "ax = mice_ser.plot(kind = \"bar\", figsize = (5, 3))\n",
    "ax.set_xticklabels(x, rotation=45,horizontalalignment=\"right\")\n",
    "ax.set_xlabel(\"Treatments\")\n",
    "ax.set_ylabel(\"Mices for each treatment\")\n",
    "ax.set_title(\"Tumor Study\")\n",
    "\n",
    "plt.tight_layout\n"
   ]
  },
  {
   "cell_type": "code",
   "execution_count": 59,
   "metadata": {},
   "outputs": [
    {
     "data": {
      "text/plain": [
       "(-1.101994262617908,\n",
       " 1.100094964886567,\n",
       " -1.1042684816700141,\n",
       " 1.1534336851355051)"
      ]
     },
     "execution_count": 59,
     "metadata": {},
     "output_type": "execute_result"
    },
    {
     "data": {
      "image/png": "[encoded data removed]",
      "text/plain": [
       "<Figure size 432x288 with 1 Axes>"
      ]
     },
     "metadata": {},
     "output_type": "display_data"
    }
   ],
   "source": [
    "# Generate a pie plot showing the distribution of female versus male mice using pandas\n",
    "\n",
    "sex_df = clean_df[\"Sex\"].value_counts()\n",
    "explode = [0.05, 0]\n",
    "sex_list = sex_df.keys()\n",
    "splot = sex_df.plot(kind = \"pie\", y = sex_list, explode = explode, autopct=\"%1.1f%%\", shadow=True, startangle= 0  )\n",
    "splot.set_title(\"Distribution of test mice sex\")\n",
    "plt.axis(\"equal\")"
   ]
  },
  {
   "cell_type": "code",
   "execution_count": 60,
   "metadata": {},
   "outputs": [
    {
     "data": {
      "image/png": "[encoded data removed]",
      "text/plain": [
       "<Figure size 432x288 with 1 Axes>"
      ]
     },
     "metadata": {},
     "output_type": "display_data"
    }
   ],
   "source": [
    "# Generate a pie plot showing the distribution of female versus male mice using pyplot\n",
    "sex_df\n",
    "sexs = sex_df.keys()\n",
    "y = phar_df[\"Sex\"].value_counts()\n",
    "explode = (0, 0.05)\n",
    "plt.title(\"Tumor Test Mice Sex Distribution\")\n",
    "plt.pie(y, explode=explode, labels=sexs, autopct=\"%1.1f%%\", shadow=True, startangle= 0)\n",
    "plt.ylabel(\"Sex\")\n",
    "plt.axis(\"equal\")\n",
    "plt.show()"
   ]
  },
  {
   "cell_type": "markdown",
   "metadata": {},
   "source": [
    "## Quartiles, Outliers and Boxplots"
   ]
  },
  {
   "cell_type": "code",
   "execution_count": 61,
   "metadata": {},
   "outputs": [
    {
     "data": {
      "text/html": [
       "<div>\n",
       "<style scoped>\n",
       "    .dataframe tbody tr th:only-of-type {\n",
       "        vertical-align: middle;\n",
       "    }\n",
       "\n",
       "    .dataframe tbody tr th {\n",
       "        vertical-align: top;\n",
       "    }\n",
       "\n",
       "    .dataframe thead th {\n",
       "        text-align: right;\n",
       "    }\n",
       "</style>\n",
       "<table border=\"1\" class=\"dataframe\">\n",
       "  <thead>\n",
       "    <tr style=\"text-align: right;\">\n",
       "      <th></th>\n",
       "      <th>Mouse ID</th>\n",
       "      <th>Drug Regimen</th>\n",
       "      <th>Sex</th>\n",
       "      <th>Age_months</th>\n",
       "      <th>Weight (g)</th>\n",
       "      <th>Timepoint</th>\n",
       "      <th>Tumor Volume (mm3)</th>\n",
       "      <th>Metastatic Sites</th>\n",
       "    </tr>\n",
       "  </thead>\n",
       "  <tbody>\n",
       "    <tr>\n",
       "      <th>0</th>\n",
       "      <td>k403</td>\n",
       "      <td>Ramicane</td>\n",
       "      <td>Male</td>\n",
       "      <td>21</td>\n",
       "      <td>16</td>\n",
       "      <td>45</td>\n",
       "      <td>22.050126</td>\n",
       "      <td>1</td>\n",
       "    </tr>\n",
       "    <tr>\n",
       "      <th>1</th>\n",
       "      <td>s185</td>\n",
       "      <td>Capomulin</td>\n",
       "      <td>Female</td>\n",
       "      <td>3</td>\n",
       "      <td>17</td>\n",
       "      <td>45</td>\n",
       "      <td>23.343598</td>\n",
       "      <td>1</td>\n",
       "    </tr>\n",
       "    <tr>\n",
       "      <th>2</th>\n",
       "      <td>x401</td>\n",
       "      <td>Capomulin</td>\n",
       "      <td>Female</td>\n",
       "      <td>16</td>\n",
       "      <td>15</td>\n",
       "      <td>45</td>\n",
       "      <td>28.484033</td>\n",
       "      <td>0</td>\n",
       "    </tr>\n",
       "    <tr>\n",
       "      <th>3</th>\n",
       "      <td>m601</td>\n",
       "      <td>Capomulin</td>\n",
       "      <td>Male</td>\n",
       "      <td>22</td>\n",
       "      <td>17</td>\n",
       "      <td>45</td>\n",
       "      <td>28.430964</td>\n",
       "      <td>1</td>\n",
       "    </tr>\n",
       "    <tr>\n",
       "      <th>4</th>\n",
       "      <td>g791</td>\n",
       "      <td>Ramicane</td>\n",
       "      <td>Male</td>\n",
       "      <td>11</td>\n",
       "      <td>16</td>\n",
       "      <td>45</td>\n",
       "      <td>29.128472</td>\n",
       "      <td>1</td>\n",
       "    </tr>\n",
       "  </tbody>\n",
       "</table>\n",
       "</div>"
      ],
      "text/plain": [
       "  Mouse ID Drug Regimen     Sex  Age_months  Weight (g)  Timepoint  \\\n",
       "0     k403     Ramicane    Male          21          16         45   \n",
       "1     s185    Capomulin  Female           3          17         45   \n",
       "2     x401    Capomulin  Female          16          15         45   \n",
       "3     m601    Capomulin    Male          22          17         45   \n",
       "4     g791     Ramicane    Male          11          16         45   \n",
       "\n",
       "   Tumor Volume (mm3)  Metastatic Sites  \n",
       "0           22.050126                 1  \n",
       "1           23.343598                 1  \n",
       "2           28.484033                 0  \n",
       "3           28.430964                 1  \n",
       "4           29.128472                 1  "
      ]
     },
     "execution_count": 61,
     "metadata": {},
     "output_type": "execute_result"
    }
   ],
   "source": [
    "# Calculate the final tumor volume of each mouse across four of the treatment regimens:  \n",
    "# Capomulin, Ramicane, Infubinol, and Ceftamin\n",
    "# Start by getting the last (greatest) timepoint for each mouse\n",
    "\n",
    "#Please noticed, during drop duplicates mice operation, I have already keep the last one, \n",
    "#so my greatest timepoint is automatically satisfied.\n",
    "final_df = phar_df.loc[(clean_df[\"Drug Regimen\"] == \"Capomulin\") | (clean_df[\"Drug Regimen\"] ==\"Ramicane\") |\n",
    "                       (clean_df[\"Drug Regimen\"] == \"Infubinol\") | (clean_df[\"Drug Regimen\"] == \"Ceftamin\"), : ]\n",
    "\n",
    "# Merge this group df with the original dataframe to get the tumor volume at the last timepoint\n",
    "final_df.head()"
   ]
  },
  {
   "cell_type": "code",
   "execution_count": 62,
   "metadata": {},
   "outputs": [],
   "source": [
    "# Put treatments into a list for for loop (and later for plot labels)\n",
    "#treat_list = [\"Capomulin\", \"Ramicane\", \"Infubinol\", \"Ceftamin\"]\n",
    "treat_list = [\"Capomulin\", \"Ramicane\", \"Infubinol\", \"Ceftamin\"]"
   ]
  },
  {
   "cell_type": "code",
   "execution_count": 63,
   "metadata": {},
   "outputs": [],
   "source": [
    "# Create empty list to fill with tumor vol data (for plotting)\n",
    "# Locate the rows which contain mice on each drug and get the tumor volumes \n",
    "# add subset   \n",
    "\n",
    "Tumor_vol_list = []\n",
    "\n",
    "for i in range(len(treat_list)):\n",
    "    temp_list = (clean_df.loc[(clean_df[\"Drug Regimen\"] == treat_list[i]), [\"Tumor Volume (mm3)\"]])\n",
    "    Tumor_vol_list.append(temp_list)\n",
    "\n",
    "#Tumor_vol_list[0]  "
   ]
  },
  {
   "cell_type": "code",
   "execution_count": 64,
   "metadata": {},
   "outputs": [
    {
     "data": {
      "text/html": [
       "<div>\n",
       "<style scoped>\n",
       "    .dataframe tbody tr th:only-of-type {\n",
       "        vertical-align: middle;\n",
       "    }\n",
       "\n",
       "    .dataframe tbody tr th {\n",
       "        vertical-align: top;\n",
       "    }\n",
       "\n",
       "    .dataframe thead th {\n",
       "        text-align: right;\n",
       "    }\n",
       "</style>\n",
       "<table border=\"1\" class=\"dataframe\">\n",
       "  <thead>\n",
       "    <tr style=\"text-align: right;\">\n",
       "      <th></th>\n",
       "      <th>Capomulin</th>\n",
       "      <th>Ramicane</th>\n",
       "      <th>Infubinol</th>\n",
       "      <th>Ceftamin</th>\n",
       "    </tr>\n",
       "  </thead>\n",
       "  <tbody>\n",
       "    <tr>\n",
       "      <th>0.25</th>\n",
       "      <td>32.377357</td>\n",
       "      <td>31.560470</td>\n",
       "      <td>54.048608</td>\n",
       "      <td>48.722078</td>\n",
       "    </tr>\n",
       "    <tr>\n",
       "      <th>0.50</th>\n",
       "      <td>38.125164</td>\n",
       "      <td>36.561652</td>\n",
       "      <td>60.165180</td>\n",
       "      <td>59.851956</td>\n",
       "    </tr>\n",
       "    <tr>\n",
       "      <th>0.75</th>\n",
       "      <td>40.159220</td>\n",
       "      <td>40.659006</td>\n",
       "      <td>65.525743</td>\n",
       "      <td>64.299830</td>\n",
       "    </tr>\n",
       "  </tbody>\n",
       "</table>\n",
       "</div>"
      ],
      "text/plain": [
       "      Capomulin   Ramicane  Infubinol   Ceftamin\n",
       "0.25  32.377357  31.560470  54.048608  48.722078\n",
       "0.50  38.125164  36.561652  60.165180  59.851956\n",
       "0.75  40.159220  40.659006  65.525743  64.299830"
      ]
     },
     "execution_count": 64,
     "metadata": {},
     "output_type": "execute_result"
    }
   ],
   "source": [
    "#Form the quartile_df with all the q1, q2, q3 for each of 4 treatments\n",
    "\n",
    "q0 = Tumor_vol_list[0].quantile([.25,.5,.75]) # Calculate for the q1, q2, q3\n",
    "q1 = Tumor_vol_list[1].quantile([.25,.5,.75])\n",
    "q2 = Tumor_vol_list[2].quantile([.25,.5,.75])\n",
    "q3 = Tumor_vol_list[3].quantile([.25,.5,.75])\n",
    "q0.columns = [\"\"] # remove the original column name\n",
    "q1.columns = [\"\"]\n",
    "q2.columns = [\"\"]\n",
    "q3.columns = [\"\"]\n",
    "quartile_df = pd.DataFrame(q0) # form the quartile DataFrame with the first column \n",
    "quartile_df.columns = [\"Capomulin\"]\n",
    "quartile_df[\"Ramicane\"] = q1\n",
    "quartile_df[\"Infubinol\"] = q2\n",
    "quartile_df[\"Ceftamin\"] = q3\n",
    "\n",
    "quartile_df"
   ]
  },
  {
   "cell_type": "code",
   "execution_count": 65,
   "metadata": {},
   "outputs": [
    {
     "data": {
      "text/html": [
       "<div>\n",
       "<style scoped>\n",
       "    .dataframe tbody tr th:only-of-type {\n",
       "        vertical-align: middle;\n",
       "    }\n",
       "\n",
       "    .dataframe tbody tr th {\n",
       "        vertical-align: top;\n",
       "    }\n",
       "\n",
       "    .dataframe thead th {\n",
       "        text-align: right;\n",
       "    }\n",
       "</style>\n",
       "<table border=\"1\" class=\"dataframe\">\n",
       "  <thead>\n",
       "    <tr style=\"text-align: right;\">\n",
       "      <th></th>\n",
       "      <th>0.25</th>\n",
       "      <th>0.50</th>\n",
       "      <th>0.75</th>\n",
       "    </tr>\n",
       "  </thead>\n",
       "  <tbody>\n",
       "    <tr>\n",
       "      <th>Capomulin</th>\n",
       "      <td>32.377357</td>\n",
       "      <td>38.125164</td>\n",
       "      <td>40.159220</td>\n",
       "    </tr>\n",
       "    <tr>\n",
       "      <th>Ramicane</th>\n",
       "      <td>31.560470</td>\n",
       "      <td>36.561652</td>\n",
       "      <td>40.659006</td>\n",
       "    </tr>\n",
       "    <tr>\n",
       "      <th>Infubinol</th>\n",
       "      <td>54.048608</td>\n",
       "      <td>60.165180</td>\n",
       "      <td>65.525743</td>\n",
       "    </tr>\n",
       "    <tr>\n",
       "      <th>Ceftamin</th>\n",
       "      <td>48.722078</td>\n",
       "      <td>59.851956</td>\n",
       "      <td>64.299830</td>\n",
       "    </tr>\n",
       "  </tbody>\n",
       "</table>\n",
       "</div>"
      ],
      "text/plain": [
       "                0.25       0.50       0.75\n",
       "Capomulin  32.377357  38.125164  40.159220\n",
       "Ramicane   31.560470  36.561652  40.659006\n",
       "Infubinol  54.048608  60.165180  65.525743\n",
       "Ceftamin   48.722078  59.851956  64.299830"
      ]
     },
     "execution_count": 65,
     "metadata": {},
     "output_type": "execute_result"
    }
   ],
   "source": [
    "#Turn the quartile DataFRame 90 degree\n",
    "tquar_df = quartile_df.T\n",
    "tquar_df "
   ]
  },
  {
   "cell_type": "code",
   "execution_count": 66,
   "metadata": {},
   "outputs": [
    {
     "data": {
      "text/html": [
       "<div>\n",
       "<style scoped>\n",
       "    .dataframe tbody tr th:only-of-type {\n",
       "        vertical-align: middle;\n",
       "    }\n",
       "\n",
       "    .dataframe tbody tr th {\n",
       "        vertical-align: top;\n",
       "    }\n",
       "\n",
       "    .dataframe thead th {\n",
       "        text-align: right;\n",
       "    }\n",
       "</style>\n",
       "<table border=\"1\" class=\"dataframe\">\n",
       "  <thead>\n",
       "    <tr style=\"text-align: right;\">\n",
       "      <th></th>\n",
       "      <th>0.25</th>\n",
       "      <th>0.5</th>\n",
       "      <th>0.75</th>\n",
       "      <th>IQR</th>\n",
       "      <th>Lower_bound</th>\n",
       "      <th>upper_bound</th>\n",
       "    </tr>\n",
       "  </thead>\n",
       "  <tbody>\n",
       "    <tr>\n",
       "      <th>Capomulin</th>\n",
       "      <td>32.377357</td>\n",
       "      <td>38.125164</td>\n",
       "      <td>40.159220</td>\n",
       "      <td>7.781863</td>\n",
       "      <td>20.704562</td>\n",
       "      <td>51.832015</td>\n",
       "    </tr>\n",
       "    <tr>\n",
       "      <th>Ramicane</th>\n",
       "      <td>31.560470</td>\n",
       "      <td>36.561652</td>\n",
       "      <td>40.659006</td>\n",
       "      <td>9.098537</td>\n",
       "      <td>17.912664</td>\n",
       "      <td>54.306811</td>\n",
       "    </tr>\n",
       "    <tr>\n",
       "      <th>Infubinol</th>\n",
       "      <td>54.048608</td>\n",
       "      <td>60.165180</td>\n",
       "      <td>65.525743</td>\n",
       "      <td>11.477135</td>\n",
       "      <td>36.832905</td>\n",
       "      <td>82.741446</td>\n",
       "    </tr>\n",
       "    <tr>\n",
       "      <th>Ceftamin</th>\n",
       "      <td>48.722078</td>\n",
       "      <td>59.851956</td>\n",
       "      <td>64.299830</td>\n",
       "      <td>15.577752</td>\n",
       "      <td>25.355450</td>\n",
       "      <td>87.666458</td>\n",
       "    </tr>\n",
       "  </tbody>\n",
       "</table>\n",
       "</div>"
      ],
      "text/plain": [
       "                0.25        0.5       0.75        IQR  Lower_bound  \\\n",
       "Capomulin  32.377357  38.125164  40.159220   7.781863    20.704562   \n",
       "Ramicane   31.560470  36.561652  40.659006   9.098537    17.912664   \n",
       "Infubinol  54.048608  60.165180  65.525743  11.477135    36.832905   \n",
       "Ceftamin   48.722078  59.851956  64.299830  15.577752    25.355450   \n",
       "\n",
       "           upper_bound  \n",
       "Capomulin    51.832015  \n",
       "Ramicane     54.306811  \n",
       "Infubinol    82.741446  \n",
       "Ceftamin     87.666458  "
      ]
     },
     "execution_count": 66,
     "metadata": {},
     "output_type": "execute_result"
    }
   ],
   "source": [
    "#complete the tquar_df by Calculate the IQR, Lower_Bound and Upper_bound\n",
    "\n",
    "tquar_df[\"IQR\"]  = tquar_df[0.75]- tquar_df[0.25]\n",
    "tquar_df[\"Lower_bound\"] = tquar_df[0.25]- tquar_df[\"IQR\"] * 1.5\n",
    "tquar_df[\"upper_bound\"] = tquar_df[0.75] + tquar_df[\"IQR\"] * 1.5\n",
    "tquar_df"
   ]
  },
  {
   "cell_type": "code",
   "execution_count": 67,
   "metadata": {},
   "outputs": [
    {
     "data": {
      "text/html": [
       "<div>\n",
       "<style scoped>\n",
       "    .dataframe tbody tr th:only-of-type {\n",
       "        vertical-align: middle;\n",
       "    }\n",
       "\n",
       "    .dataframe tbody tr th {\n",
       "        vertical-align: top;\n",
       "    }\n",
       "\n",
       "    .dataframe thead th {\n",
       "        text-align: right;\n",
       "    }\n",
       "</style>\n",
       "<table border=\"1\" class=\"dataframe\">\n",
       "  <thead>\n",
       "    <tr style=\"text-align: right;\">\n",
       "      <th></th>\n",
       "      <th>Mouse ID</th>\n",
       "      <th>Drug Regimen</th>\n",
       "      <th>Sex</th>\n",
       "      <th>Age_months</th>\n",
       "      <th>Weight (g)</th>\n",
       "      <th>Timepoint</th>\n",
       "      <th>Tumor Volume (mm3)</th>\n",
       "      <th>Metastatic Sites</th>\n",
       "    </tr>\n",
       "  </thead>\n",
       "  <tbody>\n",
       "    <tr>\n",
       "      <th>74</th>\n",
       "      <td>c326</td>\n",
       "      <td>Infubinol</td>\n",
       "      <td>Female</td>\n",
       "      <td>18</td>\n",
       "      <td>25</td>\n",
       "      <td>5</td>\n",
       "      <td>36.321346</td>\n",
       "      <td>0</td>\n",
       "    </tr>\n",
       "  </tbody>\n",
       "</table>\n",
       "</div>"
      ],
      "text/plain": [
       "   Mouse ID Drug Regimen     Sex  Age_months  Weight (g)  Timepoint  \\\n",
       "74     c326    Infubinol  Female          18          25          5   \n",
       "\n",
       "    Tumor Volume (mm3)  Metastatic Sites  \n",
       "74           36.321346                 0  "
      ]
     },
     "execution_count": 67,
     "metadata": {},
     "output_type": "execute_result"
    }
   ],
   "source": [
    "#Form 4 sub outlier_df and finally creat the general outlier_df\n",
    "# Determine outliers using upper and lower bounds\n",
    "\n",
    "#Shown below there is 1 possible outliers from Infubinol, Mouse ID = c326, Timepoint = 5, Tumor Volume (mm3) = 36.321346\n",
    "\n",
    "outliers_df0 = final_df.loc[(final_df[\"Drug Regimen\"] == \"Capomulin\") & ((final_df[\"Tumor Volume (mm3)\"] < 20.704562) |\n",
    "                          (final_df[\"Tumor Volume (mm3)\"] > 51.832015))]\n",
    "outliers_df1 = final_df.loc[(final_df[\"Drug Regimen\"] == \"Ramicane\") & ((final_df[\"Tumor Volume (mm3)\"] < 17.912664) |\n",
    "                          (final_df[\"Tumor Volume (mm3)\"] > 54.306811))]\n",
    "outliers_df2 = final_df.loc[(final_df[\"Drug Regimen\"] == \"Infubinol\") & ((final_df[\"Tumor Volume (mm3)\"] < 36.832905) |\n",
    "                          (final_df[\"Tumor Volume (mm3)\"] > 82.741446 ))]\n",
    "outliers_df3 = final_df.loc[(final_df[\"Drug Regimen\"] == \"Ceftamin\") & ((final_df[\"Tumor Volume (mm3)\"] < 25.355450 ) |\n",
    "                          (final_df[\"Tumor Volume (mm3)\"] > 87.666458))]\n",
    "\n",
    "outliers_df2"
   ]
  },
  {
   "cell_type": "code",
   "execution_count": 68,
   "metadata": {},
   "outputs": [
    {
     "data": {
      "image/png": "[encoded data removed]",
      "text/plain": [
       "<Figure size 432x288 with 1 Axes>"
      ]
     },
     "metadata": {
      "needs_background": "light"
     },
     "output_type": "display_data"
    }
   ],
   "source": [
    "# Generate a box plot of the final tumor volume of each mouse across four regimens of interest\n",
    "fig1, ax1 = plt.subplots()\n",
    "ax1.set_xticklabels(treat_list, rotation = \"vertical\")\n",
    "ax1.set_xticks([1, 3, 5, 7])\n",
    "\n",
    "ax1.set_title('Tumor treatments')\n",
    "ax1.set_ylabel('Quartile Analysis')\n",
    "ax1.set_xlabel(\"Quartile Boxes\")\n",
    "ax1.boxplot(Tumor_vol_list[0].values, positions =[1], widths = 0.6)\n",
    "ax1.boxplot(Tumor_vol_list[1].values, positions = [3], widths = 0.6)\n",
    "ax1.boxplot(Tumor_vol_list[2].values, positions = [5], widths = 0.6)\n",
    "ax1.boxplot(Tumor_vol_list[3].values, positions = [7], widths = 0.6)\n",
    "flierdrops = dict(marker = \"o\", markfacecolor = \"blue\", markersize = 12)\n",
    "\n",
    "plt.show()"
   ]
  },
  {
   "cell_type": "markdown",
   "metadata": {},
   "source": [
    "## Line and Scatter Plots"
   ]
  },
  {
   "cell_type": "code",
   "execution_count": 69,
   "metadata": {},
   "outputs": [
    {
     "data": {
      "text/plain": [
       "array(['s185', 'x401', 'm601', 'f966', 'u364', 'y793', 'r554', 'm957',\n",
       "       't565', 'i738', 'w914', 'g288', 'l897', 'b742', 'b128', 'j246',\n",
       "       'j119', 'w150', 'v923', 'g316', 's710', 'l509', 'r944', 'i557',\n",
       "       'r157'], dtype=object)"
      ]
     },
     "execution_count": 69,
     "metadata": {},
     "output_type": "execute_result"
    }
   ],
   "source": [
    "# Generate a line plot of time point versus tumor volume for a mouse treated with Capomulin\n",
    "Capomulin_df = pharmacy_df.loc[pharmacy_df[\"Drug Regimen\"] == \"Capomulin\", [\"Mouse ID\"]]\n",
    "Capomulin_df[\"Mouse ID\"].unique()"
   ]
  },
  {
   "cell_type": "code",
   "execution_count": 70,
   "metadata": {},
   "outputs": [
    {
     "name": "stderr",
     "output_type": "stream",
     "text": [
      "No handles with labels found to put in legend.\n"
     ]
    },
    {
     "data": {
      "image/png": "[encoded data removed]",
      "text/plain": [
       "<Figure size 432x288 with 1 Axes>"
      ]
     },
     "metadata": {
      "needs_background": "light"
     },
     "output_type": "display_data"
    }
   ],
   "source": [
    "#Mouse ID m601 selected to plot time vs tumor volume and get result as follows:\n",
    "m601_df = pharmacy_df.loc[pharmacy_df[\"Mouse ID\"] == \"m601\", [\"Timepoint\", \"Tumor Volume (mm3)\"]]\n",
    "\n",
    "plt.xlabel(\"m601 check timepoint\")\n",
    "plt.ylabel(\"Tumor Volume\")\n",
    "plt.title(\"Tumor Treat Study\")\n",
    "plt.legend(loc = \"upper right\")\n",
    "m601plot, = plt.plot(m601_df[\"Timepoint\"], m601_df[\"Tumor Volume (mm3)\"], color = \"green\") \n"
   ]
  },
  {
   "cell_type": "code",
   "execution_count": 71,
   "metadata": {},
   "outputs": [
    {
     "data": {
      "image/png": "[encoded data removed]",
      "text/plain": [
       "<Figure size 432x288 with 2 Axes>"
      ]
     },
     "metadata": {
      "needs_background": "light"
     },
     "output_type": "display_data"
    }
   ],
   "source": [
    "# Generate a scatter plot of mouse weight versus average tumor volume for the Capomulin regimen\n",
    "weight_vol_df = pharmacy_df.loc[pharmacy_df[\"Drug Regimen\"] == \"Capomulin\", [\"Mouse ID\", \"Weight (g)\", \"Tumor Volume (mm3)\"]]\n",
    "grouped_weight_vol_df = weight_vol_df.groupby(\"Mouse ID\")\n",
    "mean_df = grouped_weight_vol_df.mean()\n",
    "plt.xlabel(\"Test Mose Weight\")\n",
    "plt.ylabel(\"Average Tumor Volume\")\n",
    "plt.title(\"Tumor Study\")\n",
    "plt.scatter(mean_df[\"Weight (g)\"], mean_df[\"Tumor Volume (mm3)\"], marker = \"o\", cmap = 'RdPu', \n",
    "            s = mean_df[\"Tumor Volume (mm3)\"] * 3, alpha =1)\n",
    "cbar = plt.colorbar()"
   ]
  },
  {
   "cell_type": "markdown",
   "metadata": {},
   "source": [
    "## Correlation and Regression"
   ]
  },
  {
   "cell_type": "code",
   "execution_count": 72,
   "metadata": {},
   "outputs": [
    {
     "name": "stdout",
     "output_type": "stream",
     "text": [
      "The correlation coefficient between mice_weight and tumor_volume is 0.84\n"
     ]
    }
   ],
   "source": [
    "# Calculate the correlation coefficient and linear regression model \n",
    "correlation_coefficient = round(st.pearsonr(mean_df[\"Weight (g)\"], mean_df[\"Tumor Volume (mm3)\"])[0],2)\n",
    "print(f\"The correlation coefficient between mice_weight and tumor_volume is {correlation_coefficient}\")"
   ]
  },
  {
   "cell_type": "code",
   "execution_count": 73,
   "metadata": {},
   "outputs": [
    {
     "data": {
      "image/png": "[encoded data removed]",
      "text/plain": [
       "<Figure size 432x288 with 2 Axes>"
      ]
     },
     "metadata": {
      "needs_background": "light"
     },
     "output_type": "display_data"
    }
   ],
   "source": [
    "#Calculate linear regression model\n",
    "# for mouse weight and average tumor volume for the Capomulin regimen\n",
    "\n",
    "slope, int, r, p, std_err = st.linregress(mean_df[\"Weight (g)\"], mean_df[\"Tumor Volume (mm3)\"])\n",
    "equition = mean_df[\"Weight (g)\"] * slope + int\n",
    "plt.scatter(mean_df[\"Weight (g)\"], mean_df[\"Tumor Volume (mm3)\"], marker = \"o\", cmap = 'RdPu', \n",
    "            s =mean_df[\"Tumor Volume (mm3)\"] *3, alpha =1)\n",
    "plt.plot(mean_df[\"Weight (g)\"], equition, \"r-\")\n",
    "line_eq = \"y = \" + str(round(slope,2)) + \"x +\" + str(round(int,2))\n",
    "plt.annotate(line_eq,(18,36),fontsize=15,color=\"red\")\n",
    "plt.xlabel(\"Test Mose Weight\")\n",
    "plt.ylabel(\"Average Tumor Volume\")\n",
    "plt.title(\"Tumor Study\")\n",
    "cbar = plt.colorbar()"
   ]
  },
  {
   "cell_type": "code",
   "execution_count": null,
   "metadata": {},
   "outputs": [],
   "source": []
  }
 ],
 "metadata": {
  "anaconda-cloud": {},
  "kernelspec": {
   "display_name": "Python [conda env:pythondata] *",
   "language": "python",
   "name": "conda-env-pythondata-py"
  },
  "language_info": {
   "codemirror_mode": {
    "name": "ipython",
    "version": 3
   },
   "file_extension": ".py",
   "mimetype": "text/x-python",
   "name": "python",
   "nbconvert_exporter": "python",
   "pygments_lexer": "ipython3",
   "version": "3.6.10"
  }
 },
 "nbformat": 4,
 "nbformat_minor": 2
}
